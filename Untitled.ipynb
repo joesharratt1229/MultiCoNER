{
 "cells": [
  {
   "cell_type": "code",
   "execution_count": 1,
   "id": "7be7fac1",
   "metadata": {},
   "outputs": [],
   "source": [
    "import pandas as pd\n",
    "import re\n",
    "import torch\n",
    "from torch.utils.data import Dataset"
   ]
  },
  {
   "cell_type": "code",
   "execution_count": 10,
   "id": "5ee10c35",
   "metadata": {},
   "outputs": [
    {
     "ename": "AttributeError",
     "evalue": "'list' object has no attribute 'strip'",
     "output_type": "error",
     "traceback": [
      "\u001b[0;31m---------------------------------------------------------------------------\u001b[0m",
      "\u001b[0;31mAttributeError\u001b[0m                            Traceback (most recent call last)",
      "Cell \u001b[0;32mIn [10], line 4\u001b[0m\n\u001b[1;32m      1\u001b[0m lines\u001b[38;5;241m=\u001b[39m\u001b[38;5;124m\"\u001b[39m\u001b[38;5;124mhi__label0 \u001b[39m\u001b[38;5;130;01m\\n\u001b[39;00m\u001b[38;5;124m my name is joe\u001b[39m\u001b[38;5;124m\"\u001b[39m\n\u001b[1;32m      3\u001b[0m li\u001b[38;5;241m=\u001b[39mlines\u001b[38;5;241m.\u001b[39mstrip()\u001b[38;5;241m.\u001b[39msplit(\u001b[38;5;124m'\u001b[39m\u001b[38;5;130;01m\\n\u001b[39;00m\u001b[38;5;124m'\u001b[39m)\n\u001b[0;32m----> 4\u001b[0m \u001b[43mli\u001b[49m\u001b[38;5;241;43m.\u001b[39;49m\u001b[43mstrip\u001b[49m\u001b[38;5;241m.\u001b[39msplit(\u001b[38;5;124m'\u001b[39m\u001b[38;5;124m_\u001b[39m\u001b[38;5;124m'\u001b[39m)\n",
      "\u001b[0;31mAttributeError\u001b[0m: 'list' object has no attribute 'strip'"
     ]
    }
   ],
   "source": [
    "lines=\"hi__label0 \\n my name is joe\"\n",
    "\n",
    "li=lines.strip().split('\\n')\n",
    "li.strip.split('_')\n",
    "\n"
   ]
  },
  {
   "cell_type": "code",
   "execution_count": 15,
   "id": "74141ae9",
   "metadata": {},
   "outputs": [],
   "source": [
    "class CoNLLDataset(Dataset):\n",
    "    def __init__(self, conl_text):\n",
    "        super().__init__()\n",
    "        lines=conl_text.strip().split('\\n')\n",
    "        \n",
    "        #Create a dictionary to store the data\n",
    "        self.data={}\n",
    "        cur_id=None\n",
    "        cur_text=[]\n",
    "        \n",
    "        for line in lines:\n",
    "            cols=line.strip().split('\\t')\n",
    "            Id=cols[0]\n",
    "            text=cols[1]\n",
    "            cur_text=[]\n",
    "            \n",
    "        #Id rhw is ia not the same as the current id then reached a new id we store the current text\n",
    "        #in a data dictionary and reset the temporary variables\n",
    "        if Id!= cur_id:\n",
    "            if cur_id is not None:\n",
    "                self.data[cur_id]={'text':cur_text, 'labels':[] }\n",
    "                cur_id=Id\n",
    "                cur_text=[]\n",
    "                \n",
    "        cur_text.append(text)\n",
    "        \n",
    "                # store the last piece of text in the data dictionary\n",
    "        self.data[cur_id] = {'text': cur_text, 'labels': []}\n",
    "\n",
    "        def __len__(self):\n",
    "            return len(self.data)\n",
    "\n",
    "        def __getitem__(self, idx):\n",
    "            # get the id of the data at the given index\n",
    "            Id = list(self.data.keys())[idx]\n",
    "\n",
    "        # get the text and labels for the given id\n",
    "        text = self.data[Id]['text']\n",
    "        labels = self.data[Id]['labels']\n",
    "                \n",
    "        #return the texts and labels as a tuple\n",
    "        return text, labels\n",
    "        "
   ]
  },
  {
   "cell_type": "code",
   "execution_count": 12,
   "id": "e32b1e70",
   "metadata": {},
   "outputs": [],
   "source": [
    "with open('train_dev/en-train.conll', 'r') as f:\n",
    "    data=f.read()\n"
   ]
  },
  {
   "cell_type": "code",
   "execution_count": 16,
   "id": "a51fbc47",
   "metadata": {},
   "outputs": [
    {
     "ename": "IndexError",
     "evalue": "list index out of range",
     "output_type": "error",
     "traceback": [
      "\u001b[0;31m---------------------------------------------------------------------------\u001b[0m",
      "\u001b[0;31mIndexError\u001b[0m                                Traceback (most recent call last)",
      "Cell \u001b[0;32mIn [16], line 1\u001b[0m\n\u001b[0;32m----> 1\u001b[0m data\u001b[38;5;241m=\u001b[39m\u001b[43mCoNLLDataset\u001b[49m\u001b[43m(\u001b[49m\u001b[43mdata\u001b[49m\u001b[43m)\u001b[49m\n",
      "Cell \u001b[0;32mIn [15], line 14\u001b[0m, in \u001b[0;36mCoNLLDataset.__init__\u001b[0;34m(self, conl_text)\u001b[0m\n\u001b[1;32m     12\u001b[0m     cols\u001b[38;5;241m=\u001b[39mline\u001b[38;5;241m.\u001b[39mstrip()\u001b[38;5;241m.\u001b[39msplit(\u001b[38;5;124m'\u001b[39m\u001b[38;5;130;01m\\t\u001b[39;00m\u001b[38;5;124m'\u001b[39m)\n\u001b[1;32m     13\u001b[0m     Id\u001b[38;5;241m=\u001b[39mcols[\u001b[38;5;241m0\u001b[39m]\n\u001b[0;32m---> 14\u001b[0m     text\u001b[38;5;241m=\u001b[39m\u001b[43mcols\u001b[49m\u001b[43m[\u001b[49m\u001b[38;5;241;43m1\u001b[39;49m\u001b[43m]\u001b[49m\n\u001b[1;32m     15\u001b[0m     cur_text\u001b[38;5;241m=\u001b[39m[]\n\u001b[1;32m     17\u001b[0m \u001b[38;5;66;03m#Id rhw is ia not the same as the current id then reached a new id we store the current text\u001b[39;00m\n\u001b[1;32m     18\u001b[0m \u001b[38;5;66;03m#in a data dictionary and reset the temporary variables\u001b[39;00m\n",
      "\u001b[0;31mIndexError\u001b[0m: list index out of range"
     ]
    }
   ],
   "source": [
    "data=CoNLLDataset(data)"
   ]
  },
  {
   "cell_type": "code",
   "execution_count": null,
   "id": "e39bc5f7",
   "metadata": {},
   "outputs": [],
   "source": []
  }
 ],
 "metadata": {
  "kernelspec": {
   "display_name": "Python 3 (ipykernel)",
   "language": "python",
   "name": "python3"
  },
  "language_info": {
   "codemirror_mode": {
    "name": "ipython",
    "version": 3
   },
   "file_extension": ".py",
   "mimetype": "text/x-python",
   "name": "python",
   "nbconvert_exporter": "python",
   "pygments_lexer": "ipython3",
   "version": "3.10.6"
  }
 },
 "nbformat": 4,
 "nbformat_minor": 5
}
